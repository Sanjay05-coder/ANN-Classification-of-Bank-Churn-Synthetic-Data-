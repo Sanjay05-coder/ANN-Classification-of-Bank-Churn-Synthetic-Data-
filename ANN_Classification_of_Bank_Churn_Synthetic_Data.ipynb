{
  "nbformat": 4,
  "nbformat_minor": 0,
  "metadata": {
    "colab": {
      "provenance": [],
      "authorship_tag": "ABX9TyOwvidcRgHn0KWYwj1h6RNo",
      "include_colab_link": true
    },
    "kernelspec": {
      "name": "python3",
      "display_name": "Python 3"
    },
    "language_info": {
      "name": "python"
    }
  },
  "cells": [
    {
      "cell_type": "markdown",
      "metadata": {
        "id": "view-in-github",
        "colab_type": "text"
      },
      "source": [
        "<a href=\"https://colab.research.google.com/github/Sanjay05-coder/ANN-Classification-of-Bank-Churn-Synthetic-Data-/blob/main/ANN_Classification_of_Bank_Churn_Synthetic_Data.ipynb\" target=\"_parent\"><img src=\"https://colab.research.google.com/assets/colab-badge.svg\" alt=\"Open In Colab\"/></a>"
      ]
    },
    {
      "cell_type": "code",
      "execution_count": 2,
      "metadata": {
        "id": "GqCuqTcmoPpk"
      },
      "outputs": [],
      "source": [
        "import tensorflow as tf #Import the core tensorflow library\n",
        "from tensorflow import keras #Import the Keras API, whihx is now the official high-level API for building and training deep learning models in Tensorflow\n",
        "from tensorflow.keras import layers\n",
        "import numpy as np\n",
        "from sklearn.model_selection import train_test_split\n",
        "from sklearn.preprocessing import MinMaxScaler\n",
        "import matplotlib as plt\n",
        "from sklearn.metrics import confusion_matrix,ConfusionMatrixDisplay\n",
        "import pandas as pd"
      ]
    },
    {
      "cell_type": "code",
      "source": [
        "df=pd.read_csv(\"/content/Dataset.csv.zip\")"
      ],
      "metadata": {
        "id": "h40J6ADuoZIH"
      },
      "execution_count": 3,
      "outputs": []
    },
    {
      "cell_type": "code",
      "source": [
        "df.head()"
      ],
      "metadata": {
        "colab": {
          "base_uri": "https://localhost:8080/",
          "height": 256
        },
        "id": "JLrmvyA7oZFh",
        "outputId": "8282a951-4ec5-42f5-b2f7-187b6ccfc0d7"
      },
      "execution_count": 11,
      "outputs": [
        {
          "output_type": "execute_result",
          "data": {
            "text/plain": [
              "   Surname  CreditScore   Age  Tenure    Balance  NumOfProducts  HasCrCard  \\\n",
              "0     2023        668.0  33.0     3.0       0.00            2.0          1   \n",
              "1     2024        627.0  33.0     1.0       0.00            2.0          1   \n",
              "2     1236        678.0  40.0    10.0       0.00            2.0          1   \n",
              "3     1362        581.0  34.0     2.0  148882.54            1.0          1   \n",
              "4      491        716.0  33.0     5.0       0.00            2.0          1   \n",
              "\n",
              "   IsActiveMember  EstimatedSalary  Exited  ...  France  Germany  Spain  \\\n",
              "0               0        181449.97       0  ...       1        0      0   \n",
              "1               1         49503.50       0  ...       1        0      0   \n",
              "2               0        184866.69       0  ...       1        0      0   \n",
              "3               1         84560.88       0  ...       1        0      0   \n",
              "4               1         15068.83       0  ...       0        0      1   \n",
              "\n",
              "   Female  Male  Mem__no__Products  Cred_Bal_Sal   Bal_sal  Tenure_Age  \\\n",
              "0       0     1                0.0      0.000000  0.000000    0.090909   \n",
              "1       0     1                2.0      0.000000  0.000000    0.030303   \n",
              "2       0     1                0.0      0.000000  0.000000    0.250000   \n",
              "3       0     1                1.0   1022.940581  1.760655    0.058824   \n",
              "4       0     1                2.0      0.000000  0.000000    0.151515   \n",
              "\n",
              "   Age_Tenure_product  \n",
              "0                99.0  \n",
              "1                33.0  \n",
              "2               400.0  \n",
              "3                68.0  \n",
              "4               165.0  \n",
              "\n",
              "[5 rows x 25 columns]"
            ],
            "text/html": [
              "\n",
              "  <div id=\"df-59791bcf-6a55-41d3-8e86-f76ad7a47f37\" class=\"colab-df-container\">\n",
              "    <div>\n",
              "<style scoped>\n",
              "    .dataframe tbody tr th:only-of-type {\n",
              "        vertical-align: middle;\n",
              "    }\n",
              "\n",
              "    .dataframe tbody tr th {\n",
              "        vertical-align: top;\n",
              "    }\n",
              "\n",
              "    .dataframe thead th {\n",
              "        text-align: right;\n",
              "    }\n",
              "</style>\n",
              "<table border=\"1\" class=\"dataframe\">\n",
              "  <thead>\n",
              "    <tr style=\"text-align: right;\">\n",
              "      <th></th>\n",
              "      <th>Surname</th>\n",
              "      <th>CreditScore</th>\n",
              "      <th>Age</th>\n",
              "      <th>Tenure</th>\n",
              "      <th>Balance</th>\n",
              "      <th>NumOfProducts</th>\n",
              "      <th>HasCrCard</th>\n",
              "      <th>IsActiveMember</th>\n",
              "      <th>EstimatedSalary</th>\n",
              "      <th>Exited</th>\n",
              "      <th>...</th>\n",
              "      <th>France</th>\n",
              "      <th>Germany</th>\n",
              "      <th>Spain</th>\n",
              "      <th>Female</th>\n",
              "      <th>Male</th>\n",
              "      <th>Mem__no__Products</th>\n",
              "      <th>Cred_Bal_Sal</th>\n",
              "      <th>Bal_sal</th>\n",
              "      <th>Tenure_Age</th>\n",
              "      <th>Age_Tenure_product</th>\n",
              "    </tr>\n",
              "  </thead>\n",
              "  <tbody>\n",
              "    <tr>\n",
              "      <th>0</th>\n",
              "      <td>2023</td>\n",
              "      <td>668.0</td>\n",
              "      <td>33.0</td>\n",
              "      <td>3.0</td>\n",
              "      <td>0.00</td>\n",
              "      <td>2.0</td>\n",
              "      <td>1</td>\n",
              "      <td>0</td>\n",
              "      <td>181449.97</td>\n",
              "      <td>0</td>\n",
              "      <td>...</td>\n",
              "      <td>1</td>\n",
              "      <td>0</td>\n",
              "      <td>0</td>\n",
              "      <td>0</td>\n",
              "      <td>1</td>\n",
              "      <td>0.0</td>\n",
              "      <td>0.000000</td>\n",
              "      <td>0.000000</td>\n",
              "      <td>0.090909</td>\n",
              "      <td>99.0</td>\n",
              "    </tr>\n",
              "    <tr>\n",
              "      <th>1</th>\n",
              "      <td>2024</td>\n",
              "      <td>627.0</td>\n",
              "      <td>33.0</td>\n",
              "      <td>1.0</td>\n",
              "      <td>0.00</td>\n",
              "      <td>2.0</td>\n",
              "      <td>1</td>\n",
              "      <td>1</td>\n",
              "      <td>49503.50</td>\n",
              "      <td>0</td>\n",
              "      <td>...</td>\n",
              "      <td>1</td>\n",
              "      <td>0</td>\n",
              "      <td>0</td>\n",
              "      <td>0</td>\n",
              "      <td>1</td>\n",
              "      <td>2.0</td>\n",
              "      <td>0.000000</td>\n",
              "      <td>0.000000</td>\n",
              "      <td>0.030303</td>\n",
              "      <td>33.0</td>\n",
              "    </tr>\n",
              "    <tr>\n",
              "      <th>2</th>\n",
              "      <td>1236</td>\n",
              "      <td>678.0</td>\n",
              "      <td>40.0</td>\n",
              "      <td>10.0</td>\n",
              "      <td>0.00</td>\n",
              "      <td>2.0</td>\n",
              "      <td>1</td>\n",
              "      <td>0</td>\n",
              "      <td>184866.69</td>\n",
              "      <td>0</td>\n",
              "      <td>...</td>\n",
              "      <td>1</td>\n",
              "      <td>0</td>\n",
              "      <td>0</td>\n",
              "      <td>0</td>\n",
              "      <td>1</td>\n",
              "      <td>0.0</td>\n",
              "      <td>0.000000</td>\n",
              "      <td>0.000000</td>\n",
              "      <td>0.250000</td>\n",
              "      <td>400.0</td>\n",
              "    </tr>\n",
              "    <tr>\n",
              "      <th>3</th>\n",
              "      <td>1362</td>\n",
              "      <td>581.0</td>\n",
              "      <td>34.0</td>\n",
              "      <td>2.0</td>\n",
              "      <td>148882.54</td>\n",
              "      <td>1.0</td>\n",
              "      <td>1</td>\n",
              "      <td>1</td>\n",
              "      <td>84560.88</td>\n",
              "      <td>0</td>\n",
              "      <td>...</td>\n",
              "      <td>1</td>\n",
              "      <td>0</td>\n",
              "      <td>0</td>\n",
              "      <td>0</td>\n",
              "      <td>1</td>\n",
              "      <td>1.0</td>\n",
              "      <td>1022.940581</td>\n",
              "      <td>1.760655</td>\n",
              "      <td>0.058824</td>\n",
              "      <td>68.0</td>\n",
              "    </tr>\n",
              "    <tr>\n",
              "      <th>4</th>\n",
              "      <td>491</td>\n",
              "      <td>716.0</td>\n",
              "      <td>33.0</td>\n",
              "      <td>5.0</td>\n",
              "      <td>0.00</td>\n",
              "      <td>2.0</td>\n",
              "      <td>1</td>\n",
              "      <td>1</td>\n",
              "      <td>15068.83</td>\n",
              "      <td>0</td>\n",
              "      <td>...</td>\n",
              "      <td>0</td>\n",
              "      <td>0</td>\n",
              "      <td>1</td>\n",
              "      <td>0</td>\n",
              "      <td>1</td>\n",
              "      <td>2.0</td>\n",
              "      <td>0.000000</td>\n",
              "      <td>0.000000</td>\n",
              "      <td>0.151515</td>\n",
              "      <td>165.0</td>\n",
              "    </tr>\n",
              "  </tbody>\n",
              "</table>\n",
              "<p>5 rows × 25 columns</p>\n",
              "</div>\n",
              "    <div class=\"colab-df-buttons\">\n",
              "\n",
              "  <div class=\"colab-df-container\">\n",
              "    <button class=\"colab-df-convert\" onclick=\"convertToInteractive('df-59791bcf-6a55-41d3-8e86-f76ad7a47f37')\"\n",
              "            title=\"Convert this dataframe to an interactive table.\"\n",
              "            style=\"display:none;\">\n",
              "\n",
              "  <svg xmlns=\"http://www.w3.org/2000/svg\" height=\"24px\" viewBox=\"0 -960 960 960\">\n",
              "    <path d=\"M120-120v-720h720v720H120Zm60-500h600v-160H180v160Zm220 220h160v-160H400v160Zm0 220h160v-160H400v160ZM180-400h160v-160H180v160Zm440 0h160v-160H620v160ZM180-180h160v-160H180v160Zm440 0h160v-160H620v160Z\"/>\n",
              "  </svg>\n",
              "    </button>\n",
              "\n",
              "  <style>\n",
              "    .colab-df-container {\n",
              "      display:flex;\n",
              "      gap: 12px;\n",
              "    }\n",
              "\n",
              "    .colab-df-convert {\n",
              "      background-color: #E8F0FE;\n",
              "      border: none;\n",
              "      border-radius: 50%;\n",
              "      cursor: pointer;\n",
              "      display: none;\n",
              "      fill: #1967D2;\n",
              "      height: 32px;\n",
              "      padding: 0 0 0 0;\n",
              "      width: 32px;\n",
              "    }\n",
              "\n",
              "    .colab-df-convert:hover {\n",
              "      background-color: #E2EBFA;\n",
              "      box-shadow: 0px 1px 2px rgba(60, 64, 67, 0.3), 0px 1px 3px 1px rgba(60, 64, 67, 0.15);\n",
              "      fill: #174EA6;\n",
              "    }\n",
              "\n",
              "    .colab-df-buttons div {\n",
              "      margin-bottom: 4px;\n",
              "    }\n",
              "\n",
              "    [theme=dark] .colab-df-convert {\n",
              "      background-color: #3B4455;\n",
              "      fill: #D2E3FC;\n",
              "    }\n",
              "\n",
              "    [theme=dark] .colab-df-convert:hover {\n",
              "      background-color: #434B5C;\n",
              "      box-shadow: 0px 1px 3px 1px rgba(0, 0, 0, 0.15);\n",
              "      filter: drop-shadow(0px 1px 2px rgba(0, 0, 0, 0.3));\n",
              "      fill: #FFFFFF;\n",
              "    }\n",
              "  </style>\n",
              "\n",
              "    <script>\n",
              "      const buttonEl =\n",
              "        document.querySelector('#df-59791bcf-6a55-41d3-8e86-f76ad7a47f37 button.colab-df-convert');\n",
              "      buttonEl.style.display =\n",
              "        google.colab.kernel.accessAllowed ? 'block' : 'none';\n",
              "\n",
              "      async function convertToInteractive(key) {\n",
              "        const element = document.querySelector('#df-59791bcf-6a55-41d3-8e86-f76ad7a47f37');\n",
              "        const dataTable =\n",
              "          await google.colab.kernel.invokeFunction('convertToInteractive',\n",
              "                                                    [key], {});\n",
              "        if (!dataTable) return;\n",
              "\n",
              "        const docLinkHtml = 'Like what you see? Visit the ' +\n",
              "          '<a target=\"_blank\" href=https://colab.research.google.com/notebooks/data_table.ipynb>data table notebook</a>'\n",
              "          + ' to learn more about interactive tables.';\n",
              "        element.innerHTML = '';\n",
              "        dataTable['output_type'] = 'display_data';\n",
              "        await google.colab.output.renderOutput(dataTable, element);\n",
              "        const docLink = document.createElement('div');\n",
              "        docLink.innerHTML = docLinkHtml;\n",
              "        element.appendChild(docLink);\n",
              "      }\n",
              "    </script>\n",
              "  </div>\n",
              "\n",
              "\n",
              "    <div id=\"df-11c23a4c-9f46-4cfc-b0fe-2b1a446a9e24\">\n",
              "      <button class=\"colab-df-quickchart\" onclick=\"quickchart('df-11c23a4c-9f46-4cfc-b0fe-2b1a446a9e24')\"\n",
              "                title=\"Suggest charts\"\n",
              "                style=\"display:none;\">\n",
              "\n",
              "<svg xmlns=\"http://www.w3.org/2000/svg\" height=\"24px\"viewBox=\"0 0 24 24\"\n",
              "     width=\"24px\">\n",
              "    <g>\n",
              "        <path d=\"M19 3H5c-1.1 0-2 .9-2 2v14c0 1.1.9 2 2 2h14c1.1 0 2-.9 2-2V5c0-1.1-.9-2-2-2zM9 17H7v-7h2v7zm4 0h-2V7h2v10zm4 0h-2v-4h2v4z\"/>\n",
              "    </g>\n",
              "</svg>\n",
              "      </button>\n",
              "\n",
              "<style>\n",
              "  .colab-df-quickchart {\n",
              "      --bg-color: #E8F0FE;\n",
              "      --fill-color: #1967D2;\n",
              "      --hover-bg-color: #E2EBFA;\n",
              "      --hover-fill-color: #174EA6;\n",
              "      --disabled-fill-color: #AAA;\n",
              "      --disabled-bg-color: #DDD;\n",
              "  }\n",
              "\n",
              "  [theme=dark] .colab-df-quickchart {\n",
              "      --bg-color: #3B4455;\n",
              "      --fill-color: #D2E3FC;\n",
              "      --hover-bg-color: #434B5C;\n",
              "      --hover-fill-color: #FFFFFF;\n",
              "      --disabled-bg-color: #3B4455;\n",
              "      --disabled-fill-color: #666;\n",
              "  }\n",
              "\n",
              "  .colab-df-quickchart {\n",
              "    background-color: var(--bg-color);\n",
              "    border: none;\n",
              "    border-radius: 50%;\n",
              "    cursor: pointer;\n",
              "    display: none;\n",
              "    fill: var(--fill-color);\n",
              "    height: 32px;\n",
              "    padding: 0;\n",
              "    width: 32px;\n",
              "  }\n",
              "\n",
              "  .colab-df-quickchart:hover {\n",
              "    background-color: var(--hover-bg-color);\n",
              "    box-shadow: 0 1px 2px rgba(60, 64, 67, 0.3), 0 1px 3px 1px rgba(60, 64, 67, 0.15);\n",
              "    fill: var(--button-hover-fill-color);\n",
              "  }\n",
              "\n",
              "  .colab-df-quickchart-complete:disabled,\n",
              "  .colab-df-quickchart-complete:disabled:hover {\n",
              "    background-color: var(--disabled-bg-color);\n",
              "    fill: var(--disabled-fill-color);\n",
              "    box-shadow: none;\n",
              "  }\n",
              "\n",
              "  .colab-df-spinner {\n",
              "    border: 2px solid var(--fill-color);\n",
              "    border-color: transparent;\n",
              "    border-bottom-color: var(--fill-color);\n",
              "    animation:\n",
              "      spin 1s steps(1) infinite;\n",
              "  }\n",
              "\n",
              "  @keyframes spin {\n",
              "    0% {\n",
              "      border-color: transparent;\n",
              "      border-bottom-color: var(--fill-color);\n",
              "      border-left-color: var(--fill-color);\n",
              "    }\n",
              "    20% {\n",
              "      border-color: transparent;\n",
              "      border-left-color: var(--fill-color);\n",
              "      border-top-color: var(--fill-color);\n",
              "    }\n",
              "    30% {\n",
              "      border-color: transparent;\n",
              "      border-left-color: var(--fill-color);\n",
              "      border-top-color: var(--fill-color);\n",
              "      border-right-color: var(--fill-color);\n",
              "    }\n",
              "    40% {\n",
              "      border-color: transparent;\n",
              "      border-right-color: var(--fill-color);\n",
              "      border-top-color: var(--fill-color);\n",
              "    }\n",
              "    60% {\n",
              "      border-color: transparent;\n",
              "      border-right-color: var(--fill-color);\n",
              "    }\n",
              "    80% {\n",
              "      border-color: transparent;\n",
              "      border-right-color: var(--fill-color);\n",
              "      border-bottom-color: var(--fill-color);\n",
              "    }\n",
              "    90% {\n",
              "      border-color: transparent;\n",
              "      border-bottom-color: var(--fill-color);\n",
              "    }\n",
              "  }\n",
              "</style>\n",
              "\n",
              "      <script>\n",
              "        async function quickchart(key) {\n",
              "          const quickchartButtonEl =\n",
              "            document.querySelector('#' + key + ' button');\n",
              "          quickchartButtonEl.disabled = true;  // To prevent multiple clicks.\n",
              "          quickchartButtonEl.classList.add('colab-df-spinner');\n",
              "          try {\n",
              "            const charts = await google.colab.kernel.invokeFunction(\n",
              "                'suggestCharts', [key], {});\n",
              "          } catch (error) {\n",
              "            console.error('Error during call to suggestCharts:', error);\n",
              "          }\n",
              "          quickchartButtonEl.classList.remove('colab-df-spinner');\n",
              "          quickchartButtonEl.classList.add('colab-df-quickchart-complete');\n",
              "        }\n",
              "        (() => {\n",
              "          let quickchartButtonEl =\n",
              "            document.querySelector('#df-11c23a4c-9f46-4cfc-b0fe-2b1a446a9e24 button');\n",
              "          quickchartButtonEl.style.display =\n",
              "            google.colab.kernel.accessAllowed ? 'block' : 'none';\n",
              "        })();\n",
              "      </script>\n",
              "    </div>\n",
              "\n",
              "    </div>\n",
              "  </div>\n"
            ],
            "application/vnd.google.colaboratory.intrinsic+json": {
              "type": "dataframe",
              "variable_name": "df"
            }
          },
          "metadata": {},
          "execution_count": 11
        }
      ]
    },
    {
      "cell_type": "code",
      "source": [
        "len(df.columns)"
      ],
      "metadata": {
        "colab": {
          "base_uri": "https://localhost:8080/"
        },
        "id": "Cy-LqnEyosR6",
        "outputId": "912d4d5e-a2e5-417b-c86b-45b6881a8491"
      },
      "execution_count": 6,
      "outputs": [
        {
          "output_type": "execute_result",
          "data": {
            "text/plain": [
              "25"
            ]
          },
          "metadata": {},
          "execution_count": 6
        }
      ]
    },
    {
      "cell_type": "code",
      "source": [
        "df.info()"
      ],
      "metadata": {
        "colab": {
          "base_uri": "https://localhost:8080/"
        },
        "id": "H-dCiYQZoZC_",
        "outputId": "d5dd572e-7cba-4eb3-c663-55be8ac89ff9"
      },
      "execution_count": 5,
      "outputs": [
        {
          "output_type": "stream",
          "name": "stdout",
          "text": [
            "<class 'pandas.core.frame.DataFrame'>\n",
            "RangeIndex: 175028 entries, 0 to 175027\n",
            "Data columns (total 25 columns):\n",
            " #   Column              Non-Null Count   Dtype  \n",
            "---  ------              --------------   -----  \n",
            " 0   Surname             175028 non-null  int64  \n",
            " 1   CreditScore         175028 non-null  float64\n",
            " 2   Age                 175028 non-null  float64\n",
            " 3   Tenure              175028 non-null  float64\n",
            " 4   Balance             175028 non-null  float64\n",
            " 5   NumOfProducts       175028 non-null  float64\n",
            " 6   HasCrCard           175028 non-null  int64  \n",
            " 7   IsActiveMember      175028 non-null  int64  \n",
            " 8   EstimatedSalary     175028 non-null  float64\n",
            " 9   Exited              175028 non-null  int64  \n",
            " 10  Surname_tfidf_0     175028 non-null  float64\n",
            " 11  Surname_tfidf_1     175028 non-null  float64\n",
            " 12  Surname_tfidf_2     175028 non-null  float64\n",
            " 13  Surname_tfidf_3     175028 non-null  float64\n",
            " 14  Surname_tfidf_4     175028 non-null  float64\n",
            " 15  France              175028 non-null  int64  \n",
            " 16  Germany             175028 non-null  int64  \n",
            " 17  Spain               175028 non-null  int64  \n",
            " 18  Female              175028 non-null  int64  \n",
            " 19  Male                175028 non-null  int64  \n",
            " 20  Mem__no__Products   175028 non-null  float64\n",
            " 21  Cred_Bal_Sal        175028 non-null  float64\n",
            " 22  Bal_sal             175028 non-null  float64\n",
            " 23  Tenure_Age          175028 non-null  float64\n",
            " 24  Age_Tenure_product  175028 non-null  float64\n",
            "dtypes: float64(16), int64(9)\n",
            "memory usage: 33.4 MB\n"
          ]
        }
      ]
    },
    {
      "cell_type": "code",
      "source": [
        "df['Exited'].unique()\n",
        "# Exited\n",
        "# 1-> yes\n",
        "# 2-> No"
      ],
      "metadata": {
        "colab": {
          "base_uri": "https://localhost:8080/"
        },
        "id": "P7YDUdatoZAa",
        "outputId": "6efc9e3a-fd44-4e6d-d65b-cb674b2034da"
      },
      "execution_count": 7,
      "outputs": [
        {
          "output_type": "execute_result",
          "data": {
            "text/plain": [
              "array([0, 1])"
            ]
          },
          "metadata": {},
          "execution_count": 7
        }
      ]
    },
    {
      "cell_type": "code",
      "source": [
        "df.isnull().sum()# no missing vals"
      ],
      "metadata": {
        "colab": {
          "base_uri": "https://localhost:8080/",
          "height": 868
        },
        "id": "I-fpuf0moY93",
        "outputId": "b6cde91a-6e1b-409e-ab64-1c7c3ac0ea89"
      },
      "execution_count": 8,
      "outputs": [
        {
          "output_type": "execute_result",
          "data": {
            "text/plain": [
              "Surname               0\n",
              "CreditScore           0\n",
              "Age                   0\n",
              "Tenure                0\n",
              "Balance               0\n",
              "NumOfProducts         0\n",
              "HasCrCard             0\n",
              "IsActiveMember        0\n",
              "EstimatedSalary       0\n",
              "Exited                0\n",
              "Surname_tfidf_0       0\n",
              "Surname_tfidf_1       0\n",
              "Surname_tfidf_2       0\n",
              "Surname_tfidf_3       0\n",
              "Surname_tfidf_4       0\n",
              "France                0\n",
              "Germany               0\n",
              "Spain                 0\n",
              "Female                0\n",
              "Male                  0\n",
              "Mem__no__Products     0\n",
              "Cred_Bal_Sal          0\n",
              "Bal_sal               0\n",
              "Tenure_Age            0\n",
              "Age_Tenure_product    0\n",
              "dtype: int64"
            ],
            "text/html": [
              "<div>\n",
              "<style scoped>\n",
              "    .dataframe tbody tr th:only-of-type {\n",
              "        vertical-align: middle;\n",
              "    }\n",
              "\n",
              "    .dataframe tbody tr th {\n",
              "        vertical-align: top;\n",
              "    }\n",
              "\n",
              "    .dataframe thead th {\n",
              "        text-align: right;\n",
              "    }\n",
              "</style>\n",
              "<table border=\"1\" class=\"dataframe\">\n",
              "  <thead>\n",
              "    <tr style=\"text-align: right;\">\n",
              "      <th></th>\n",
              "      <th>0</th>\n",
              "    </tr>\n",
              "  </thead>\n",
              "  <tbody>\n",
              "    <tr>\n",
              "      <th>Surname</th>\n",
              "      <td>0</td>\n",
              "    </tr>\n",
              "    <tr>\n",
              "      <th>CreditScore</th>\n",
              "      <td>0</td>\n",
              "    </tr>\n",
              "    <tr>\n",
              "      <th>Age</th>\n",
              "      <td>0</td>\n",
              "    </tr>\n",
              "    <tr>\n",
              "      <th>Tenure</th>\n",
              "      <td>0</td>\n",
              "    </tr>\n",
              "    <tr>\n",
              "      <th>Balance</th>\n",
              "      <td>0</td>\n",
              "    </tr>\n",
              "    <tr>\n",
              "      <th>NumOfProducts</th>\n",
              "      <td>0</td>\n",
              "    </tr>\n",
              "    <tr>\n",
              "      <th>HasCrCard</th>\n",
              "      <td>0</td>\n",
              "    </tr>\n",
              "    <tr>\n",
              "      <th>IsActiveMember</th>\n",
              "      <td>0</td>\n",
              "    </tr>\n",
              "    <tr>\n",
              "      <th>EstimatedSalary</th>\n",
              "      <td>0</td>\n",
              "    </tr>\n",
              "    <tr>\n",
              "      <th>Exited</th>\n",
              "      <td>0</td>\n",
              "    </tr>\n",
              "    <tr>\n",
              "      <th>Surname_tfidf_0</th>\n",
              "      <td>0</td>\n",
              "    </tr>\n",
              "    <tr>\n",
              "      <th>Surname_tfidf_1</th>\n",
              "      <td>0</td>\n",
              "    </tr>\n",
              "    <tr>\n",
              "      <th>Surname_tfidf_2</th>\n",
              "      <td>0</td>\n",
              "    </tr>\n",
              "    <tr>\n",
              "      <th>Surname_tfidf_3</th>\n",
              "      <td>0</td>\n",
              "    </tr>\n",
              "    <tr>\n",
              "      <th>Surname_tfidf_4</th>\n",
              "      <td>0</td>\n",
              "    </tr>\n",
              "    <tr>\n",
              "      <th>France</th>\n",
              "      <td>0</td>\n",
              "    </tr>\n",
              "    <tr>\n",
              "      <th>Germany</th>\n",
              "      <td>0</td>\n",
              "    </tr>\n",
              "    <tr>\n",
              "      <th>Spain</th>\n",
              "      <td>0</td>\n",
              "    </tr>\n",
              "    <tr>\n",
              "      <th>Female</th>\n",
              "      <td>0</td>\n",
              "    </tr>\n",
              "    <tr>\n",
              "      <th>Male</th>\n",
              "      <td>0</td>\n",
              "    </tr>\n",
              "    <tr>\n",
              "      <th>Mem__no__Products</th>\n",
              "      <td>0</td>\n",
              "    </tr>\n",
              "    <tr>\n",
              "      <th>Cred_Bal_Sal</th>\n",
              "      <td>0</td>\n",
              "    </tr>\n",
              "    <tr>\n",
              "      <th>Bal_sal</th>\n",
              "      <td>0</td>\n",
              "    </tr>\n",
              "    <tr>\n",
              "      <th>Tenure_Age</th>\n",
              "      <td>0</td>\n",
              "    </tr>\n",
              "    <tr>\n",
              "      <th>Age_Tenure_product</th>\n",
              "      <td>0</td>\n",
              "    </tr>\n",
              "  </tbody>\n",
              "</table>\n",
              "</div><br><label><b>dtype:</b> int64</label>"
            ]
          },
          "metadata": {},
          "execution_count": 8
        }
      ]
    },
    {
      "cell_type": "markdown",
      "source": [
        "#Create The feature and Target"
      ],
      "metadata": {
        "id": "4g7_kd8SpehN"
      }
    },
    {
      "cell_type": "code",
      "source": [
        "X = df.drop('Exited', axis=1)\n",
        "y = df['Exited']"
      ],
      "metadata": {
        "id": "qiDc0Q9YoY7N"
      },
      "execution_count": 13,
      "outputs": []
    },
    {
      "cell_type": "code",
      "source": [
        "X_train, X_test, y_train, y_test = train_test_split(X, y, test_size=0.2, random_state=42)"
      ],
      "metadata": {
        "id": "tQROwYx3oY4p"
      },
      "execution_count": 14,
      "outputs": []
    },
    {
      "cell_type": "code",
      "source": [
        "scaler=MinMaxScaler()\n",
        "X_train_scaled=scaler.fit_transform(X_train)\n",
        "X_test_scaled=scaler.transform(X_test)"
      ],
      "metadata": {
        "id": "nxGib_GgoY14"
      },
      "execution_count": 15,
      "outputs": []
    },
    {
      "cell_type": "markdown",
      "source": [
        "#Create Neural Network"
      ],
      "metadata": {
        "id": "bz73GIALp63B"
      }
    },
    {
      "cell_type": "code",
      "source": [
        "input_dim = X_train_scaled.shape[1]\n",
        "\n",
        "input_dim"
      ],
      "metadata": {
        "colab": {
          "base_uri": "https://localhost:8080/"
        },
        "id": "5LKEJoVloYzO",
        "outputId": "1ad29f64-9b02-48ea-8bb3-3f489fd28df9"
      },
      "execution_count": 18,
      "outputs": [
        {
          "output_type": "execute_result",
          "data": {
            "text/plain": [
              "24"
            ]
          },
          "metadata": {},
          "execution_count": 18
        }
      ]
    },
    {
      "cell_type": "code",
      "source": [
        "model=keras.Sequential([\n",
        "    layers.Dense(input_dim,activation='relu',input_shape=(input_dim,)),\n",
        "    layers.Dense(1,'sigmoid')\n",
        "])"
      ],
      "metadata": {
        "colab": {
          "base_uri": "https://localhost:8080/"
        },
        "id": "3cCWoRrdpvCC",
        "outputId": "9b3b0d5e-6f4a-4eac-995b-5f6421ae70fb"
      },
      "execution_count": 20,
      "outputs": [
        {
          "output_type": "stream",
          "name": "stderr",
          "text": [
            "/usr/local/lib/python3.12/dist-packages/keras/src/layers/core/dense.py:93: UserWarning: Do not pass an `input_shape`/`input_dim` argument to a layer. When using Sequential models, prefer using an `Input(shape)` object as the first layer in the model instead.\n",
            "  super().__init__(activity_regularizer=activity_regularizer, **kwargs)\n"
          ]
        }
      ]
    },
    {
      "cell_type": "code",
      "source": [
        "# Compile model\n",
        "\n",
        "model.compile(optimizer='adam',loss='binary_crossentropy',metrics=['accuracy'])\n"
      ],
      "metadata": {
        "id": "DhoOGRePpu_s"
      },
      "execution_count": 21,
      "outputs": []
    },
    {
      "cell_type": "markdown",
      "source": [
        "#Train The model"
      ],
      "metadata": {
        "id": "lFQGzPpfq2lr"
      }
    },
    {
      "cell_type": "code",
      "source": [
        "created_model = model.fit(X_train_scaled,y_train,epochs = 100,batch_size=32,validation_split=0.2)"
      ],
      "metadata": {
        "colab": {
          "base_uri": "https://localhost:8080/"
        },
        "id": "w4taMjyTpu9R",
        "outputId": "38451bbc-c99a-48c1-9d4f-e529e527ad84"
      },
      "execution_count": 22,
      "outputs": [
        {
          "output_type": "stream",
          "name": "stdout",
          "text": [
            "Epoch 1/100\n",
            "\u001b[1m3501/3501\u001b[0m \u001b[32m━━━━━━━━━━━━━━━━━━━━\u001b[0m\u001b[37m\u001b[0m \u001b[1m9s\u001b[0m 2ms/step - accuracy: 0.8127 - loss: 0.4326 - val_accuracy: 0.8414 - val_loss: 0.3716\n",
            "Epoch 2/100\n",
            "\u001b[1m3501/3501\u001b[0m \u001b[32m━━━━━━━━━━━━━━━━━━━━\u001b[0m\u001b[37m\u001b[0m \u001b[1m8s\u001b[0m 2ms/step - accuracy: 0.8471 - loss: 0.3568 - val_accuracy: 0.8517 - val_loss: 0.3468\n",
            "Epoch 3/100\n",
            "\u001b[1m3501/3501\u001b[0m \u001b[32m━━━━━━━━━━━━━━━━━━━━\u001b[0m\u001b[37m\u001b[0m \u001b[1m7s\u001b[0m 2ms/step - accuracy: 0.8533 - loss: 0.3448 - val_accuracy: 0.8574 - val_loss: 0.3398\n",
            "Epoch 4/100\n",
            "\u001b[1m3501/3501\u001b[0m \u001b[32m━━━━━━━━━━━━━━━━━━━━\u001b[0m\u001b[37m\u001b[0m \u001b[1m8s\u001b[0m 2ms/step - accuracy: 0.8554 - loss: 0.3392 - val_accuracy: 0.8582 - val_loss: 0.3410\n",
            "Epoch 5/100\n",
            "\u001b[1m3501/3501\u001b[0m \u001b[32m━━━━━━━━━━━━━━━━━━━━\u001b[0m\u001b[37m\u001b[0m \u001b[1m8s\u001b[0m 2ms/step - accuracy: 0.8588 - loss: 0.3355 - val_accuracy: 0.8582 - val_loss: 0.3369\n",
            "Epoch 6/100\n",
            "\u001b[1m3501/3501\u001b[0m \u001b[32m━━━━━━━━━━━━━━━━━━━━\u001b[0m\u001b[37m\u001b[0m \u001b[1m7s\u001b[0m 2ms/step - accuracy: 0.8586 - loss: 0.3315 - val_accuracy: 0.8583 - val_loss: 0.3380\n",
            "Epoch 7/100\n",
            "\u001b[1m3501/3501\u001b[0m \u001b[32m━━━━━━━━━━━━━━━━━━━━\u001b[0m\u001b[37m\u001b[0m \u001b[1m9s\u001b[0m 3ms/step - accuracy: 0.8609 - loss: 0.3290 - val_accuracy: 0.8602 - val_loss: 0.3347\n",
            "Epoch 8/100\n",
            "\u001b[1m3501/3501\u001b[0m \u001b[32m━━━━━━━━━━━━━━━━━━━━\u001b[0m\u001b[37m\u001b[0m \u001b[1m8s\u001b[0m 2ms/step - accuracy: 0.8608 - loss: 0.3316 - val_accuracy: 0.8603 - val_loss: 0.3340\n",
            "Epoch 9/100\n",
            "\u001b[1m3501/3501\u001b[0m \u001b[32m━━━━━━━━━━━━━━━━━━━━\u001b[0m\u001b[37m\u001b[0m \u001b[1m7s\u001b[0m 2ms/step - accuracy: 0.8616 - loss: 0.3297 - val_accuracy: 0.8586 - val_loss: 0.3380\n",
            "Epoch 10/100\n",
            "\u001b[1m3501/3501\u001b[0m \u001b[32m━━━━━━━━━━━━━━━━━━━━\u001b[0m\u001b[37m\u001b[0m \u001b[1m8s\u001b[0m 2ms/step - accuracy: 0.8608 - loss: 0.3321 - val_accuracy: 0.8589 - val_loss: 0.3363\n",
            "Epoch 11/100\n",
            "\u001b[1m3501/3501\u001b[0m \u001b[32m━━━━━━━━━━━━━━━━━━━━\u001b[0m\u001b[37m\u001b[0m \u001b[1m7s\u001b[0m 2ms/step - accuracy: 0.8615 - loss: 0.3294 - val_accuracy: 0.8604 - val_loss: 0.3366\n",
            "Epoch 12/100\n",
            "\u001b[1m3501/3501\u001b[0m \u001b[32m━━━━━━━━━━━━━━━━━━━━\u001b[0m\u001b[37m\u001b[0m \u001b[1m8s\u001b[0m 2ms/step - accuracy: 0.8619 - loss: 0.3292 - val_accuracy: 0.8620 - val_loss: 0.3328\n",
            "Epoch 13/100\n",
            "\u001b[1m3501/3501\u001b[0m \u001b[32m━━━━━━━━━━━━━━━━━━━━\u001b[0m\u001b[37m\u001b[0m \u001b[1m7s\u001b[0m 2ms/step - accuracy: 0.8612 - loss: 0.3288 - val_accuracy: 0.8625 - val_loss: 0.3307\n",
            "Epoch 14/100\n",
            "\u001b[1m3501/3501\u001b[0m \u001b[32m━━━━━━━━━━━━━━━━━━━━\u001b[0m\u001b[37m\u001b[0m \u001b[1m7s\u001b[0m 2ms/step - accuracy: 0.8622 - loss: 0.3300 - val_accuracy: 0.8618 - val_loss: 0.3337\n",
            "Epoch 15/100\n",
            "\u001b[1m3501/3501\u001b[0m \u001b[32m━━━━━━━━━━━━━━━━━━━━\u001b[0m\u001b[37m\u001b[0m \u001b[1m8s\u001b[0m 2ms/step - accuracy: 0.8621 - loss: 0.3291 - val_accuracy: 0.8631 - val_loss: 0.3301\n",
            "Epoch 16/100\n",
            "\u001b[1m3501/3501\u001b[0m \u001b[32m━━━━━━━━━━━━━━━━━━━━\u001b[0m\u001b[37m\u001b[0m \u001b[1m7s\u001b[0m 2ms/step - accuracy: 0.8634 - loss: 0.3262 - val_accuracy: 0.8638 - val_loss: 0.3296\n",
            "Epoch 17/100\n",
            "\u001b[1m3501/3501\u001b[0m \u001b[32m━━━━━━━━━━━━━━━━━━━━\u001b[0m\u001b[37m\u001b[0m \u001b[1m8s\u001b[0m 2ms/step - accuracy: 0.8633 - loss: 0.3259 - val_accuracy: 0.8634 - val_loss: 0.3300\n",
            "Epoch 18/100\n",
            "\u001b[1m3501/3501\u001b[0m \u001b[32m━━━━━━━━━━━━━━━━━━━━\u001b[0m\u001b[37m\u001b[0m \u001b[1m7s\u001b[0m 2ms/step - accuracy: 0.8645 - loss: 0.3262 - val_accuracy: 0.8625 - val_loss: 0.3302\n",
            "Epoch 19/100\n",
            "\u001b[1m3501/3501\u001b[0m \u001b[32m━━━━━━━━━━━━━━━━━━━━\u001b[0m\u001b[37m\u001b[0m \u001b[1m8s\u001b[0m 2ms/step - accuracy: 0.8647 - loss: 0.3242 - val_accuracy: 0.8621 - val_loss: 0.3317\n",
            "Epoch 20/100\n",
            "\u001b[1m3501/3501\u001b[0m \u001b[32m━━━━━━━━━━━━━━━━━━━━\u001b[0m\u001b[37m\u001b[0m \u001b[1m8s\u001b[0m 2ms/step - accuracy: 0.8646 - loss: 0.3240 - val_accuracy: 0.8634 - val_loss: 0.3302\n",
            "Epoch 21/100\n",
            "\u001b[1m3501/3501\u001b[0m \u001b[32m━━━━━━━━━━━━━━━━━━━━\u001b[0m\u001b[37m\u001b[0m \u001b[1m7s\u001b[0m 2ms/step - accuracy: 0.8658 - loss: 0.3225 - val_accuracy: 0.8638 - val_loss: 0.3283\n",
            "Epoch 22/100\n",
            "\u001b[1m3501/3501\u001b[0m \u001b[32m━━━━━━━━━━━━━━━━━━━━\u001b[0m\u001b[37m\u001b[0m \u001b[1m8s\u001b[0m 2ms/step - accuracy: 0.8644 - loss: 0.3257 - val_accuracy: 0.8643 - val_loss: 0.3289\n",
            "Epoch 23/100\n",
            "\u001b[1m3501/3501\u001b[0m \u001b[32m━━━━━━━━━━━━━━━━━━━━\u001b[0m\u001b[37m\u001b[0m \u001b[1m7s\u001b[0m 2ms/step - accuracy: 0.8634 - loss: 0.3268 - val_accuracy: 0.8642 - val_loss: 0.3284\n",
            "Epoch 24/100\n",
            "\u001b[1m3501/3501\u001b[0m \u001b[32m━━━━━━━━━━━━━━━━━━━━\u001b[0m\u001b[37m\u001b[0m \u001b[1m8s\u001b[0m 2ms/step - accuracy: 0.8654 - loss: 0.3225 - val_accuracy: 0.8630 - val_loss: 0.3291\n",
            "Epoch 25/100\n",
            "\u001b[1m3501/3501\u001b[0m \u001b[32m━━━━━━━━━━━━━━━━━━━━\u001b[0m\u001b[37m\u001b[0m \u001b[1m7s\u001b[0m 2ms/step - accuracy: 0.8628 - loss: 0.3249 - val_accuracy: 0.8643 - val_loss: 0.3278\n",
            "Epoch 26/100\n",
            "\u001b[1m3501/3501\u001b[0m \u001b[32m━━━━━━━━━━━━━━━━━━━━\u001b[0m\u001b[37m\u001b[0m \u001b[1m8s\u001b[0m 2ms/step - accuracy: 0.8641 - loss: 0.3250 - val_accuracy: 0.8632 - val_loss: 0.3295\n",
            "Epoch 27/100\n",
            "\u001b[1m3501/3501\u001b[0m \u001b[32m━━━━━━━━━━━━━━━━━━━━\u001b[0m\u001b[37m\u001b[0m \u001b[1m8s\u001b[0m 2ms/step - accuracy: 0.8656 - loss: 0.3229 - val_accuracy: 0.8635 - val_loss: 0.3283\n",
            "Epoch 28/100\n",
            "\u001b[1m3501/3501\u001b[0m \u001b[32m━━━━━━━━━━━━━━━━━━━━\u001b[0m\u001b[37m\u001b[0m \u001b[1m11s\u001b[0m 3ms/step - accuracy: 0.8649 - loss: 0.3253 - val_accuracy: 0.8636 - val_loss: 0.3281\n",
            "Epoch 29/100\n",
            "\u001b[1m3501/3501\u001b[0m \u001b[32m━━━━━━━━━━━━━━━━━━━━\u001b[0m\u001b[37m\u001b[0m \u001b[1m18s\u001b[0m 2ms/step - accuracy: 0.8644 - loss: 0.3236 - val_accuracy: 0.8641 - val_loss: 0.3287\n",
            "Epoch 30/100\n",
            "\u001b[1m3501/3501\u001b[0m \u001b[32m━━━━━━━━━━━━━━━━━━━━\u001b[0m\u001b[37m\u001b[0m \u001b[1m8s\u001b[0m 2ms/step - accuracy: 0.8636 - loss: 0.3249 - val_accuracy: 0.8635 - val_loss: 0.3275\n",
            "Epoch 31/100\n",
            "\u001b[1m3501/3501\u001b[0m \u001b[32m━━━━━━━━━━━━━━━━━━━━\u001b[0m\u001b[37m\u001b[0m \u001b[1m7s\u001b[0m 2ms/step - accuracy: 0.8663 - loss: 0.3215 - val_accuracy: 0.8632 - val_loss: 0.3292\n",
            "Epoch 32/100\n",
            "\u001b[1m3501/3501\u001b[0m \u001b[32m━━━━━━━━━━━━━━━━━━━━\u001b[0m\u001b[37m\u001b[0m \u001b[1m9s\u001b[0m 2ms/step - accuracy: 0.8657 - loss: 0.3227 - val_accuracy: 0.8632 - val_loss: 0.3282\n",
            "Epoch 33/100\n",
            "\u001b[1m3501/3501\u001b[0m \u001b[32m━━━━━━━━━━━━━━━━━━━━\u001b[0m\u001b[37m\u001b[0m \u001b[1m8s\u001b[0m 2ms/step - accuracy: 0.8657 - loss: 0.3234 - val_accuracy: 0.8629 - val_loss: 0.3283\n",
            "Epoch 34/100\n",
            "\u001b[1m3501/3501\u001b[0m \u001b[32m━━━━━━━━━━━━━━━━━━━━\u001b[0m\u001b[37m\u001b[0m \u001b[1m9s\u001b[0m 3ms/step - accuracy: 0.8658 - loss: 0.3229 - val_accuracy: 0.8625 - val_loss: 0.3304\n",
            "Epoch 35/100\n",
            "\u001b[1m3501/3501\u001b[0m \u001b[32m━━━━━━━━━━━━━━━━━━━━\u001b[0m\u001b[37m\u001b[0m \u001b[1m9s\u001b[0m 2ms/step - accuracy: 0.8653 - loss: 0.3227 - val_accuracy: 0.8634 - val_loss: 0.3275\n",
            "Epoch 36/100\n",
            "\u001b[1m3501/3501\u001b[0m \u001b[32m━━━━━━━━━━━━━━━━━━━━\u001b[0m\u001b[37m\u001b[0m \u001b[1m10s\u001b[0m 3ms/step - accuracy: 0.8648 - loss: 0.3243 - val_accuracy: 0.8637 - val_loss: 0.3280\n",
            "Epoch 37/100\n",
            "\u001b[1m3501/3501\u001b[0m \u001b[32m━━━━━━━━━━━━━━━━━━━━\u001b[0m\u001b[37m\u001b[0m \u001b[1m8s\u001b[0m 2ms/step - accuracy: 0.8664 - loss: 0.3209 - val_accuracy: 0.8632 - val_loss: 0.3278\n",
            "Epoch 38/100\n",
            "\u001b[1m3501/3501\u001b[0m \u001b[32m━━━━━━━━━━━━━━━━━━━━\u001b[0m\u001b[37m\u001b[0m \u001b[1m8s\u001b[0m 2ms/step - accuracy: 0.8652 - loss: 0.3231 - val_accuracy: 0.8631 - val_loss: 0.3297\n",
            "Epoch 39/100\n",
            "\u001b[1m3501/3501\u001b[0m \u001b[32m━━━━━━━━━━━━━━━━━━━━\u001b[0m\u001b[37m\u001b[0m \u001b[1m9s\u001b[0m 2ms/step - accuracy: 0.8629 - loss: 0.3258 - val_accuracy: 0.8633 - val_loss: 0.3273\n",
            "Epoch 40/100\n",
            "\u001b[1m3501/3501\u001b[0m \u001b[32m━━━━━━━━━━━━━━━━━━━━\u001b[0m\u001b[37m\u001b[0m \u001b[1m8s\u001b[0m 2ms/step - accuracy: 0.8623 - loss: 0.3249 - val_accuracy: 0.8621 - val_loss: 0.3294\n",
            "Epoch 41/100\n",
            "\u001b[1m3501/3501\u001b[0m \u001b[32m━━━━━━━━━━━━━━━━━━━━\u001b[0m\u001b[37m\u001b[0m \u001b[1m11s\u001b[0m 2ms/step - accuracy: 0.8661 - loss: 0.3219 - val_accuracy: 0.8641 - val_loss: 0.3274\n",
            "Epoch 42/100\n",
            "\u001b[1m3501/3501\u001b[0m \u001b[32m━━━━━━━━━━━━━━━━━━━━\u001b[0m\u001b[37m\u001b[0m \u001b[1m10s\u001b[0m 2ms/step - accuracy: 0.8660 - loss: 0.3215 - val_accuracy: 0.8633 - val_loss: 0.3275\n",
            "Epoch 43/100\n",
            "\u001b[1m3501/3501\u001b[0m \u001b[32m━━━━━━━━━━━━━━━━━━━━\u001b[0m\u001b[37m\u001b[0m \u001b[1m9s\u001b[0m 3ms/step - accuracy: 0.8646 - loss: 0.3245 - val_accuracy: 0.8631 - val_loss: 0.3282\n",
            "Epoch 44/100\n",
            "\u001b[1m3501/3501\u001b[0m \u001b[32m━━━━━━━━━━━━━━━━━━━━\u001b[0m\u001b[37m\u001b[0m \u001b[1m9s\u001b[0m 3ms/step - accuracy: 0.8635 - loss: 0.3258 - val_accuracy: 0.8635 - val_loss: 0.3291\n",
            "Epoch 45/100\n",
            "\u001b[1m3501/3501\u001b[0m \u001b[32m━━━━━━━━━━━━━━━━━━━━\u001b[0m\u001b[37m\u001b[0m \u001b[1m8s\u001b[0m 2ms/step - accuracy: 0.8657 - loss: 0.3214 - val_accuracy: 0.8637 - val_loss: 0.3278\n",
            "Epoch 46/100\n",
            "\u001b[1m3501/3501\u001b[0m \u001b[32m━━━━━━━━━━━━━━━━━━━━\u001b[0m\u001b[37m\u001b[0m \u001b[1m9s\u001b[0m 2ms/step - accuracy: 0.8649 - loss: 0.3233 - val_accuracy: 0.8630 - val_loss: 0.3281\n",
            "Epoch 47/100\n",
            "\u001b[1m3501/3501\u001b[0m \u001b[32m━━━━━━━━━━━━━━━━━━━━\u001b[0m\u001b[37m\u001b[0m \u001b[1m8s\u001b[0m 2ms/step - accuracy: 0.8645 - loss: 0.3236 - val_accuracy: 0.8636 - val_loss: 0.3284\n",
            "Epoch 48/100\n",
            "\u001b[1m3501/3501\u001b[0m \u001b[32m━━━━━━━━━━━━━━━━━━━━\u001b[0m\u001b[37m\u001b[0m \u001b[1m10s\u001b[0m 2ms/step - accuracy: 0.8663 - loss: 0.3202 - val_accuracy: 0.8638 - val_loss: 0.3283\n",
            "Epoch 49/100\n",
            "\u001b[1m3501/3501\u001b[0m \u001b[32m━━━━━━━━━━━━━━━━━━━━\u001b[0m\u001b[37m\u001b[0m \u001b[1m8s\u001b[0m 2ms/step - accuracy: 0.8655 - loss: 0.3226 - val_accuracy: 0.8630 - val_loss: 0.3283\n",
            "Epoch 50/100\n",
            "\u001b[1m3501/3501\u001b[0m \u001b[32m━━━━━━━━━━━━━━━━━━━━\u001b[0m\u001b[37m\u001b[0m \u001b[1m7s\u001b[0m 2ms/step - accuracy: 0.8654 - loss: 0.3222 - val_accuracy: 0.8647 - val_loss: 0.3279\n",
            "Epoch 51/100\n",
            "\u001b[1m3501/3501\u001b[0m \u001b[32m━━━━━━━━━━━━━━━━━━━━\u001b[0m\u001b[37m\u001b[0m \u001b[1m8s\u001b[0m 2ms/step - accuracy: 0.8660 - loss: 0.3203 - val_accuracy: 0.8635 - val_loss: 0.3275\n",
            "Epoch 52/100\n",
            "\u001b[1m3501/3501\u001b[0m \u001b[32m━━━━━━━━━━━━━━━━━━━━\u001b[0m\u001b[37m\u001b[0m \u001b[1m8s\u001b[0m 2ms/step - accuracy: 0.8658 - loss: 0.3215 - val_accuracy: 0.8634 - val_loss: 0.3274\n",
            "Epoch 53/100\n",
            "\u001b[1m3501/3501\u001b[0m \u001b[32m━━━━━━━━━━━━━━━━━━━━\u001b[0m\u001b[37m\u001b[0m \u001b[1m9s\u001b[0m 2ms/step - accuracy: 0.8642 - loss: 0.3236 - val_accuracy: 0.8626 - val_loss: 0.3278\n",
            "Epoch 54/100\n",
            "\u001b[1m3501/3501\u001b[0m \u001b[32m━━━━━━━━━━━━━━━━━━━━\u001b[0m\u001b[37m\u001b[0m \u001b[1m8s\u001b[0m 2ms/step - accuracy: 0.8641 - loss: 0.3229 - val_accuracy: 0.8630 - val_loss: 0.3274\n",
            "Epoch 55/100\n",
            "\u001b[1m3501/3501\u001b[0m \u001b[32m━━━━━━━━━━━━━━━━━━━━\u001b[0m\u001b[37m\u001b[0m \u001b[1m8s\u001b[0m 2ms/step - accuracy: 0.8663 - loss: 0.3213 - val_accuracy: 0.8631 - val_loss: 0.3270\n",
            "Epoch 56/100\n",
            "\u001b[1m3501/3501\u001b[0m \u001b[32m━━━━━━━━━━━━━━━━━━━━\u001b[0m\u001b[37m\u001b[0m \u001b[1m7s\u001b[0m 2ms/step - accuracy: 0.8654 - loss: 0.3221 - val_accuracy: 0.8638 - val_loss: 0.3270\n",
            "Epoch 57/100\n",
            "\u001b[1m3501/3501\u001b[0m \u001b[32m━━━━━━━━━━━━━━━━━━━━\u001b[0m\u001b[37m\u001b[0m \u001b[1m11s\u001b[0m 2ms/step - accuracy: 0.8652 - loss: 0.3219 - val_accuracy: 0.8639 - val_loss: 0.3269\n",
            "Epoch 58/100\n",
            "\u001b[1m3501/3501\u001b[0m \u001b[32m━━━━━━━━━━━━━━━━━━━━\u001b[0m\u001b[37m\u001b[0m \u001b[1m8s\u001b[0m 2ms/step - accuracy: 0.8650 - loss: 0.3236 - val_accuracy: 0.8635 - val_loss: 0.3277\n",
            "Epoch 59/100\n",
            "\u001b[1m3501/3501\u001b[0m \u001b[32m━━━━━━━━━━━━━━━━━━━━\u001b[0m\u001b[37m\u001b[0m \u001b[1m7s\u001b[0m 2ms/step - accuracy: 0.8650 - loss: 0.3240 - val_accuracy: 0.8644 - val_loss: 0.3275\n",
            "Epoch 60/100\n",
            "\u001b[1m3501/3501\u001b[0m \u001b[32m━━━━━━━━━━━━━━━━━━━━\u001b[0m\u001b[37m\u001b[0m \u001b[1m8s\u001b[0m 2ms/step - accuracy: 0.8655 - loss: 0.3206 - val_accuracy: 0.8637 - val_loss: 0.3270\n",
            "Epoch 61/100\n",
            "\u001b[1m3501/3501\u001b[0m \u001b[32m━━━━━━━━━━━━━━━━━━━━\u001b[0m\u001b[37m\u001b[0m \u001b[1m7s\u001b[0m 2ms/step - accuracy: 0.8624 - loss: 0.3261 - val_accuracy: 0.8628 - val_loss: 0.3284\n",
            "Epoch 62/100\n",
            "\u001b[1m3501/3501\u001b[0m \u001b[32m━━━━━━━━━━━━━━━━━━━━\u001b[0m\u001b[37m\u001b[0m \u001b[1m8s\u001b[0m 2ms/step - accuracy: 0.8632 - loss: 0.3244 - val_accuracy: 0.8630 - val_loss: 0.3280\n",
            "Epoch 63/100\n",
            "\u001b[1m3501/3501\u001b[0m \u001b[32m━━━━━━━━━━━━━━━━━━━━\u001b[0m\u001b[37m\u001b[0m \u001b[1m9s\u001b[0m 3ms/step - accuracy: 0.8650 - loss: 0.3219 - val_accuracy: 0.8627 - val_loss: 0.3292\n",
            "Epoch 64/100\n",
            "\u001b[1m3501/3501\u001b[0m \u001b[32m━━━━━━━━━━━━━━━━━━━━\u001b[0m\u001b[37m\u001b[0m \u001b[1m8s\u001b[0m 2ms/step - accuracy: 0.8645 - loss: 0.3232 - val_accuracy: 0.8638 - val_loss: 0.3276\n",
            "Epoch 65/100\n",
            "\u001b[1m3501/3501\u001b[0m \u001b[32m━━━━━━━━━━━━━━━━━━━━\u001b[0m\u001b[37m\u001b[0m \u001b[1m8s\u001b[0m 2ms/step - accuracy: 0.8666 - loss: 0.3202 - val_accuracy: 0.8632 - val_loss: 0.3286\n",
            "Epoch 66/100\n",
            "\u001b[1m3501/3501\u001b[0m \u001b[32m━━━━━━━━━━━━━━━━━━━━\u001b[0m\u001b[37m\u001b[0m \u001b[1m8s\u001b[0m 2ms/step - accuracy: 0.8643 - loss: 0.3218 - val_accuracy: 0.8638 - val_loss: 0.3270\n",
            "Epoch 67/100\n",
            "\u001b[1m3501/3501\u001b[0m \u001b[32m━━━━━━━━━━━━━━━━━━━━\u001b[0m\u001b[37m\u001b[0m \u001b[1m7s\u001b[0m 2ms/step - accuracy: 0.8671 - loss: 0.3199 - val_accuracy: 0.8643 - val_loss: 0.3267\n",
            "Epoch 68/100\n",
            "\u001b[1m3501/3501\u001b[0m \u001b[32m━━━━━━━━━━━━━━━━━━━━\u001b[0m\u001b[37m\u001b[0m \u001b[1m8s\u001b[0m 2ms/step - accuracy: 0.8660 - loss: 0.3210 - val_accuracy: 0.8636 - val_loss: 0.3273\n",
            "Epoch 69/100\n",
            "\u001b[1m3501/3501\u001b[0m \u001b[32m━━━━━━━━━━━━━━━━━━━━\u001b[0m\u001b[37m\u001b[0m \u001b[1m7s\u001b[0m 2ms/step - accuracy: 0.8648 - loss: 0.3238 - val_accuracy: 0.8633 - val_loss: 0.3270\n",
            "Epoch 70/100\n",
            "\u001b[1m3501/3501\u001b[0m \u001b[32m━━━━━━━━━━━━━━━━━━━━\u001b[0m\u001b[37m\u001b[0m \u001b[1m8s\u001b[0m 2ms/step - accuracy: 0.8644 - loss: 0.3253 - val_accuracy: 0.8635 - val_loss: 0.3269\n",
            "Epoch 71/100\n",
            "\u001b[1m3501/3501\u001b[0m \u001b[32m━━━━━━━━━━━━━━━━━━━━\u001b[0m\u001b[37m\u001b[0m \u001b[1m8s\u001b[0m 2ms/step - accuracy: 0.8660 - loss: 0.3226 - val_accuracy: 0.8632 - val_loss: 0.3273\n",
            "Epoch 72/100\n",
            "\u001b[1m3501/3501\u001b[0m \u001b[32m━━━━━━━━━━━━━━━━━━━━\u001b[0m\u001b[37m\u001b[0m \u001b[1m8s\u001b[0m 2ms/step - accuracy: 0.8628 - loss: 0.3258 - val_accuracy: 0.8630 - val_loss: 0.3302\n",
            "Epoch 73/100\n",
            "\u001b[1m3501/3501\u001b[0m \u001b[32m━━━━━━━━━━━━━━━━━━━━\u001b[0m\u001b[37m\u001b[0m \u001b[1m11s\u001b[0m 3ms/step - accuracy: 0.8658 - loss: 0.3200 - val_accuracy: 0.8629 - val_loss: 0.3271\n",
            "Epoch 74/100\n",
            "\u001b[1m3501/3501\u001b[0m \u001b[32m━━━━━━━━━━━━━━━━━━━━\u001b[0m\u001b[37m\u001b[0m \u001b[1m8s\u001b[0m 2ms/step - accuracy: 0.8634 - loss: 0.3242 - val_accuracy: 0.8638 - val_loss: 0.3277\n",
            "Epoch 75/100\n",
            "\u001b[1m3501/3501\u001b[0m \u001b[32m━━━━━━━━━━━━━━━━━━━━\u001b[0m\u001b[37m\u001b[0m \u001b[1m8s\u001b[0m 2ms/step - accuracy: 0.8623 - loss: 0.3279 - val_accuracy: 0.8628 - val_loss: 0.3278\n",
            "Epoch 76/100\n",
            "\u001b[1m3501/3501\u001b[0m \u001b[32m━━━━━━━━━━━━━━━━━━━━\u001b[0m\u001b[37m\u001b[0m \u001b[1m8s\u001b[0m 2ms/step - accuracy: 0.8636 - loss: 0.3241 - val_accuracy: 0.8635 - val_loss: 0.3265\n",
            "Epoch 77/100\n",
            "\u001b[1m3501/3501\u001b[0m \u001b[32m━━━━━━━━━━━━━━━━━━━━\u001b[0m\u001b[37m\u001b[0m \u001b[1m7s\u001b[0m 2ms/step - accuracy: 0.8664 - loss: 0.3219 - val_accuracy: 0.8634 - val_loss: 0.3275\n",
            "Epoch 78/100\n",
            "\u001b[1m3501/3501\u001b[0m \u001b[32m━━━━━━━━━━━━━━━━━━━━\u001b[0m\u001b[37m\u001b[0m \u001b[1m8s\u001b[0m 2ms/step - accuracy: 0.8677 - loss: 0.3184 - val_accuracy: 0.8636 - val_loss: 0.3274\n",
            "Epoch 79/100\n",
            "\u001b[1m3501/3501\u001b[0m \u001b[32m━━━━━━━━━━━━━━━━━━━━\u001b[0m\u001b[37m\u001b[0m \u001b[1m8s\u001b[0m 2ms/step - accuracy: 0.8656 - loss: 0.3194 - val_accuracy: 0.8635 - val_loss: 0.3274\n",
            "Epoch 80/100\n",
            "\u001b[1m3501/3501\u001b[0m \u001b[32m━━━━━━━━━━━━━━━━━━━━\u001b[0m\u001b[37m\u001b[0m \u001b[1m7s\u001b[0m 2ms/step - accuracy: 0.8657 - loss: 0.3219 - val_accuracy: 0.8628 - val_loss: 0.3280\n",
            "Epoch 81/100\n",
            "\u001b[1m3501/3501\u001b[0m \u001b[32m━━━━━━━━━━━━━━━━━━━━\u001b[0m\u001b[37m\u001b[0m \u001b[1m8s\u001b[0m 2ms/step - accuracy: 0.8636 - loss: 0.3248 - val_accuracy: 0.8629 - val_loss: 0.3282\n",
            "Epoch 82/100\n",
            "\u001b[1m3501/3501\u001b[0m \u001b[32m━━━━━━━━━━━━━━━━━━━━\u001b[0m\u001b[37m\u001b[0m \u001b[1m7s\u001b[0m 2ms/step - accuracy: 0.8631 - loss: 0.3247 - val_accuracy: 0.8623 - val_loss: 0.3279\n",
            "Epoch 83/100\n",
            "\u001b[1m3501/3501\u001b[0m \u001b[32m━━━━━━━━━━━━━━━━━━━━\u001b[0m\u001b[37m\u001b[0m \u001b[1m8s\u001b[0m 2ms/step - accuracy: 0.8664 - loss: 0.3221 - val_accuracy: 0.8642 - val_loss: 0.3274\n",
            "Epoch 84/100\n",
            "\u001b[1m3501/3501\u001b[0m \u001b[32m━━━━━━━━━━━━━━━━━━━━\u001b[0m\u001b[37m\u001b[0m \u001b[1m8s\u001b[0m 2ms/step - accuracy: 0.8660 - loss: 0.3221 - val_accuracy: 0.8632 - val_loss: 0.3274\n",
            "Epoch 85/100\n",
            "\u001b[1m3501/3501\u001b[0m \u001b[32m━━━━━━━━━━━━━━━━━━━━\u001b[0m\u001b[37m\u001b[0m \u001b[1m7s\u001b[0m 2ms/step - accuracy: 0.8659 - loss: 0.3215 - val_accuracy: 0.8629 - val_loss: 0.3279\n",
            "Epoch 86/100\n",
            "\u001b[1m3501/3501\u001b[0m \u001b[32m━━━━━━━━━━━━━━━━━━━━\u001b[0m\u001b[37m\u001b[0m \u001b[1m8s\u001b[0m 2ms/step - accuracy: 0.8660 - loss: 0.3212 - val_accuracy: 0.8627 - val_loss: 0.3284\n",
            "Epoch 87/100\n",
            "\u001b[1m3501/3501\u001b[0m \u001b[32m━━━━━━━━━━━━━━━━━━━━\u001b[0m\u001b[37m\u001b[0m \u001b[1m7s\u001b[0m 2ms/step - accuracy: 0.8659 - loss: 0.3208 - val_accuracy: 0.8629 - val_loss: 0.3268\n",
            "Epoch 88/100\n",
            "\u001b[1m3501/3501\u001b[0m \u001b[32m━━━━━━━━━━━━━━━━━━━━\u001b[0m\u001b[37m\u001b[0m \u001b[1m8s\u001b[0m 2ms/step - accuracy: 0.8642 - loss: 0.3245 - val_accuracy: 0.8634 - val_loss: 0.3274\n",
            "Epoch 89/100\n",
            "\u001b[1m3501/3501\u001b[0m \u001b[32m━━━━━━━━━━━━━━━━━━━━\u001b[0m\u001b[37m\u001b[0m \u001b[1m8s\u001b[0m 2ms/step - accuracy: 0.8671 - loss: 0.3194 - val_accuracy: 0.8635 - val_loss: 0.3270\n",
            "Epoch 90/100\n",
            "\u001b[1m3501/3501\u001b[0m \u001b[32m━━━━━━━━━━━━━━━━━━━━\u001b[0m\u001b[37m\u001b[0m \u001b[1m9s\u001b[0m 2ms/step - accuracy: 0.8646 - loss: 0.3242 - val_accuracy: 0.8636 - val_loss: 0.3272\n",
            "Epoch 91/100\n",
            "\u001b[1m3501/3501\u001b[0m \u001b[32m━━━━━━━━━━━━━━━━━━━━\u001b[0m\u001b[37m\u001b[0m \u001b[1m8s\u001b[0m 2ms/step - accuracy: 0.8664 - loss: 0.3211 - val_accuracy: 0.8634 - val_loss: 0.3292\n",
            "Epoch 92/100\n",
            "\u001b[1m3501/3501\u001b[0m \u001b[32m━━━━━━━━━━━━━━━━━━━━\u001b[0m\u001b[37m\u001b[0m \u001b[1m8s\u001b[0m 2ms/step - accuracy: 0.8647 - loss: 0.3204 - val_accuracy: 0.8620 - val_loss: 0.3315\n",
            "Epoch 93/100\n",
            "\u001b[1m3501/3501\u001b[0m \u001b[32m━━━━━━━━━━━━━━━━━━━━\u001b[0m\u001b[37m\u001b[0m \u001b[1m7s\u001b[0m 2ms/step - accuracy: 0.8659 - loss: 0.3197 - val_accuracy: 0.8637 - val_loss: 0.3268\n",
            "Epoch 94/100\n",
            "\u001b[1m3501/3501\u001b[0m \u001b[32m━━━━━━━━━━━━━━━━━━━━\u001b[0m\u001b[37m\u001b[0m \u001b[1m8s\u001b[0m 2ms/step - accuracy: 0.8658 - loss: 0.3206 - val_accuracy: 0.8635 - val_loss: 0.3269\n",
            "Epoch 95/100\n",
            "\u001b[1m3501/3501\u001b[0m \u001b[32m━━━━━━━━━━━━━━━━━━━━\u001b[0m\u001b[37m\u001b[0m \u001b[1m7s\u001b[0m 2ms/step - accuracy: 0.8650 - loss: 0.3229 - val_accuracy: 0.8633 - val_loss: 0.3267\n",
            "Epoch 96/100\n",
            "\u001b[1m3501/3501\u001b[0m \u001b[32m━━━━━━━━━━━━━━━━━━━━\u001b[0m\u001b[37m\u001b[0m \u001b[1m8s\u001b[0m 2ms/step - accuracy: 0.8672 - loss: 0.3202 - val_accuracy: 0.8630 - val_loss: 0.3272\n",
            "Epoch 97/100\n",
            "\u001b[1m3501/3501\u001b[0m \u001b[32m━━━━━━━━━━━━━━━━━━━━\u001b[0m\u001b[37m\u001b[0m \u001b[1m8s\u001b[0m 2ms/step - accuracy: 0.8658 - loss: 0.3199 - val_accuracy: 0.8640 - val_loss: 0.3277\n",
            "Epoch 98/100\n",
            "\u001b[1m3501/3501\u001b[0m \u001b[32m━━━━━━━━━━━━━━━━━━━━\u001b[0m\u001b[37m\u001b[0m \u001b[1m8s\u001b[0m 2ms/step - accuracy: 0.8670 - loss: 0.3186 - val_accuracy: 0.8632 - val_loss: 0.3278\n",
            "Epoch 99/100\n",
            "\u001b[1m3501/3501\u001b[0m \u001b[32m━━━━━━━━━━━━━━━━━━━━\u001b[0m\u001b[37m\u001b[0m \u001b[1m8s\u001b[0m 2ms/step - accuracy: 0.8653 - loss: 0.3194 - val_accuracy: 0.8631 - val_loss: 0.3274\n",
            "Epoch 100/100\n",
            "\u001b[1m3501/3501\u001b[0m \u001b[32m━━━━━━━━━━━━━━━━━━━━\u001b[0m\u001b[37m\u001b[0m \u001b[1m8s\u001b[0m 2ms/step - accuracy: 0.8650 - loss: 0.3207 - val_accuracy: 0.8628 - val_loss: 0.3278\n"
          ]
        }
      ]
    },
    {
      "cell_type": "code",
      "source": [
        "# Plot accuracy\n",
        "import matplotlib.pyplot as plt # Import pyplot\n",
        "plt.plot(created_model.history['accuracy'], label='Train Accuracy') # Access history correctly\n",
        "plt.plot(created_model.history['val_accuracy'], label='Val Accuracy') # Access history correctly\n",
        "plt.title('Model Accuracy over Epochs')\n",
        "plt.xlabel('Epochs')\n",
        "plt.ylabel('Accuracy')\n",
        "plt.legend()\n",
        "plt.show()"
      ],
      "metadata": {
        "colab": {
          "base_uri": "https://localhost:8080/",
          "height": 472
        },
        "id": "KYwl4Pluq4C6",
        "outputId": "cd5bb712-344b-4b4a-aed1-97dfbd50e41f"
      },
      "execution_count": 23,
      "outputs": [
        {
          "output_type": "display_data",
          "data": {
            "text/plain": [
              "<Figure size 640x480 with 1 Axes>"
            ],
            "image/png": "[encoded data removed]"
          },
          "metadata": {}
        }
      ]
    },
    {
      "cell_type": "markdown",
      "source": [
        "#Evalue the model"
      ],
      "metadata": {
        "id": "5ZXaNVEKsArU"
      }
    },
    {
      "cell_type": "code",
      "source": [
        "loss, accuracy = model.evaluate(X_test_scaled, y_test)\n",
        "print(f\"\\nTest Accuracy: {accuracy:.4f}\")"
      ],
      "metadata": {
        "colab": {
          "base_uri": "https://localhost:8080/"
        },
        "id": "WhQ0uUX_r-9u",
        "outputId": "ce739c5c-2b31-46b0-e0a2-01bafb854e09"
      },
      "execution_count": 24,
      "outputs": [
        {
          "output_type": "stream",
          "name": "stdout",
          "text": [
            "\u001b[1m1094/1094\u001b[0m \u001b[32m━━━━━━━━━━━━━━━━━━━━\u001b[0m\u001b[37m\u001b[0m \u001b[1m2s\u001b[0m 1ms/step - accuracy: 0.8599 - loss: 0.3254\n",
            "\n",
            "Test Accuracy: 0.8642\n"
          ]
        }
      ]
    },
    {
      "cell_type": "markdown",
      "source": [
        "#Confusion Matrix"
      ],
      "metadata": {
        "id": "ahblEMjYsEzT"
      }
    },
    {
      "cell_type": "code",
      "source": [
        "# Predict\n",
        "y_pred = (model.predict(X_test_scaled)>0.5 ).astype(\"int32\")\n",
        "#Any probability score greater than 0.5 is evaluated as True.\n",
        "#For normal binary classification the set threshold is 0.5 , you can refer to logistics regression notes for details\n",
        "\n",
        "# Show metrics\n",
        "print(\"\\nConfusion Matrix:\")\n",
        "print(confusion_matrix(y_test, y_pred))\n",
        "display_cm = ConfusionMatrixDisplay(confusion_matrix(y_test, y_pred),display_labels=y.unique())\n",
        "display_cm.plot(cmap='Blues')"
      ],
      "metadata": {
        "colab": {
          "base_uri": "https://localhost:8080/",
          "height": 553
        },
        "id": "MsYIGjeosGe8",
        "outputId": "8de76ba3-8f0c-4f24-f7a7-3f6ca9e3c7d1"
      },
      "execution_count": 25,
      "outputs": [
        {
          "output_type": "stream",
          "name": "stdout",
          "text": [
            "\u001b[1m1094/1094\u001b[0m \u001b[32m━━━━━━━━━━━━━━━━━━━━\u001b[0m\u001b[37m\u001b[0m \u001b[1m1s\u001b[0m 974us/step\n",
            "\n",
            "Confusion Matrix:\n",
            "[[26057  1549]\n",
            " [ 3205  4195]]\n"
          ]
        },
        {
          "output_type": "execute_result",
          "data": {
            "text/plain": [
              "<sklearn.metrics._plot.confusion_matrix.ConfusionMatrixDisplay at 0x7cae2120a180>"
            ]
          },
          "metadata": {},
          "execution_count": 25
        },
        {
          "output_type": "display_data",
          "data": {
            "text/plain": [
              "<Figure size 640x480 with 2 Axes>"
            ],
            "image/png": "[encoded data removed]"
          },
          "metadata": {}
        }
      ]
    },
    {
      "cell_type": "markdown",
      "source": [
        "#Predicting New Data"
      ],
      "metadata": {
        "id": "dDnG_GYArt5m"
      }
    },
    {
      "cell_type": "code",
      "source": [
        "new_sample=[[3021,715,42,6,84572.33,2,1,0,129874.56,0,0.12,0.03,0.07,0.01,0.05,1,0,0,0,1,1.5,511225.0,252,10584]]"
      ],
      "metadata": {
        "id": "kAvdtpjVq4Fp"
      },
      "execution_count": 28,
      "outputs": []
    },
    {
      "cell_type": "markdown",
      "source": [
        "Process the new sample scale"
      ],
      "metadata": {
        "id": "Dm8FBwEUsNyh"
      }
    },
    {
      "cell_type": "code",
      "source": [
        "new_samples_scale = scaler.transform(new_sample)"
      ],
      "metadata": {
        "colab": {
          "base_uri": "https://localhost:8080/"
        },
        "id": "B2xQkqI_q4IO",
        "outputId": "7088170d-2e79-4182-eccb-948f5a53d345"
      },
      "execution_count": 29,
      "outputs": [
        {
          "output_type": "stream",
          "name": "stderr",
          "text": [
            "/usr/local/lib/python3.12/dist-packages/sklearn/utils/validation.py:2739: UserWarning: X does not have valid feature names, but MinMaxScaler was fitted with feature names\n",
            "  warnings.warn(\n"
          ]
        }
      ]
    },
    {
      "cell_type": "markdown",
      "source": [
        "#Predict the output with the trained model"
      ],
      "metadata": {
        "id": "XiK8K96NsSBQ"
      }
    },
    {
      "cell_type": "code",
      "source": [
        "#Predict\n",
        "prediction = model.predict(new_samples_scale)\n",
        "prediction_label = (prediction > 0.5).astype(\"int32\")"
      ],
      "metadata": {
        "colab": {
          "base_uri": "https://localhost:8080/"
        },
        "id": "BthlrPpGpu66",
        "outputId": "9edefcf9-e0d2-48c7-9566-f4f622971c55"
      },
      "execution_count": 30,
      "outputs": [
        {
          "output_type": "stream",
          "name": "stdout",
          "text": [
            "\u001b[1m1/1\u001b[0m \u001b[32m━━━━━━━━━━━━━━━━━━━━\u001b[0m\u001b[37m\u001b[0m \u001b[1m0s\u001b[0m 58ms/step\n"
          ]
        }
      ]
    },
    {
      "cell_type": "code",
      "source": [
        "#Interpret the results\n",
        "\n",
        "if prediction_label[0][0] == 1:\n",
        "  print(\"Prediction : Exited\")\n",
        "else:\n",
        "  print(\"Prediction : Not Exited\")"
      ],
      "metadata": {
        "colab": {
          "base_uri": "https://localhost:8080/"
        },
        "id": "LxONbkt3sXm5",
        "outputId": "d3850e9e-d379-46fa-8449-8e7eb3065edc"
      },
      "execution_count": 31,
      "outputs": [
        {
          "output_type": "stream",
          "name": "stdout",
          "text": [
            "Prediction : Exited\n"
          ]
        }
      ]
    }
  ]
}